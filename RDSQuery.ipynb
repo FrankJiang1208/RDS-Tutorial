{
 "cells": [
  {
   "cell_type": "code",
   "execution_count": null,
   "metadata": {},
   "outputs": [],
   "source": [
    "import boto3\n",
    "import psycopg2\n",
    "import pandas as pd"
   ]
  },
  {
   "cell_type": "code",
   "execution_count": null,
   "metadata": {},
   "outputs": [],
   "source": [
    "connection = psycopg2.connect(user=\"postgres\", password=\"xxxxxxx\",\n",
    "                                  host=\"xxxxxxxxxxxxxxxxxxxxxxxxxxxxxx.amazonaws.com\", port=\"5432\",\n",
    "                                  database=\"postgres\")\n",
    "cursor = connection.cursor()\n"
   ]
  },
  {
   "cell_type": "code",
   "execution_count": null,
   "metadata": {},
   "outputs": [],
   "source": [
    "pd.read_csv('xxxxxx.csv')"
   ]
  },
  {
   "cell_type": "code",
   "execution_count": null,
   "metadata": {},
   "outputs": [],
   "source": [
    "pd.read_csv('xxxxxx.csv')"
   ]
  },
  {
   "cell_type": "code",
   "execution_count": null,
   "metadata": {},
   "outputs": [],
   "source": [
    "pd.read_csv('xxxxxx.csv')"
   ]
  },
  {
   "cell_type": "code",
   "execution_count": null,
   "metadata": {},
   "outputs": [],
   "source": [
    "#creating table passengers, survival, tripinfo\n",
    "cursor.execute(\"\"\"CREATE TABLE passengers(\n",
    "XXXXXXXXXXXXXX)\"\"\")\n",
    "\n",
    "cursor.execute(\"\"\"CREATE TABLE survival(xxxxxxx)\"\"\")\n",
    "\n",
    "cursor.execute(\"\"\"CREATE TABLE tripInfo(\n",
    "xxxxxxxxxxxx)\"\"\")\n",
    "\n",
    "connection.commit()"
   ]
  },
  {
   "cell_type": "code",
   "execution_count": null,
   "metadata": {},
   "outputs": [],
   "source": [
    "sql = \"\"\"\n",
    "SELECT \"table_name\",\"column_name\", \"data_type\", \"table_schema\"\n",
    "FROM INFORMATION_SCHEMA.COLUMNS\n",
    "WHERE \"table_schema\" = 'public'\n",
    "ORDER BY table_name  \n",
    "\"\"\"\n",
    "pd.read_sql(sql, con=connection)"
   ]
  },
  {
   "cell_type": "code",
   "execution_count": null,
   "metadata": {},
   "outputs": [],
   "source": [
    "#Read in the data\n",
    "    \n",
    "connection.commit()  "
   ]
  },
  {
   "cell_type": "code",
   "execution_count": null,
   "metadata": {},
   "outputs": [],
   "source": [
    "# Create a new Role gastudent\n",
    "cursor.execute(\"\"\"CREATE ROLE gastudent WITH LOGIN PASSWORD 'gastudent'\"\"\")\n",
    "# Grant different privileges for a new role\n",
    "cursor.execute(\"\"\"GRANT CONNECT ON DATABASE postgres TO gastudent\"\"\")\n",
    "cursor.execute(\"\"\"GRANT SELECT, UPDATE, INSERT ON passengers TO gastudent\"\"\")\n",
    "cursor.execute(\"\"\"GRANT SELECT, UPDATE, INSERT ON survival TO gastudent\"\"\")\n",
    "cursor.execute(\"\"\"GRANT SELECT, UPDATE, INSERT ON tripInfo TO gastudent\"\"\")\n",
    "\n",
    "connection.commit()"
   ]
  },
  {
   "cell_type": "code",
   "execution_count": null,
   "metadata": {},
   "outputs": [],
   "source": [
    "connection1 = psycopg2.connect(user=\"gastudent\", password=\"gastudent\",\n",
    "                                  host=\"database-1.cuegirvn9p6a.us-east-1.rds.amazonaws.com\", port=\"5432\",\n",
    "                                  database=\"postgres\")\n",
    "cursor1 = connection1.cursor()\n"
   ]
  },
  {
   "cell_type": "code",
   "execution_count": null,
   "metadata": {},
   "outputs": [],
   "source": [
    "# Now we can query the data! Lets calculate the surcical rate for each passenger's class\n",
    "sql = \"\"\"\n",
    "SELECT pclass, AVG(survived)\n",
    "FROM (SELECT t.pclass, s.survived\n",
    "FROM tripInfo t\n",
    "INNER JOIN survival s ON t.id = s.id\n",
    ") AS x\n",
    "GROUP BY pclass\n",
    "\"\"\"\n",
    "\n",
    "pd.read_sql(sql, con=connection)"
   ]
  }
 ],
 "metadata": {
  "interpreter": {
   "hash": "16962a81fd87ca12fc8229dc5892b701c46750bc2c618b006ecbbf76002778a9"
  },
  "kernelspec": {
   "display_name": "Python 3.9.7 ('base')",
   "language": "python",
   "name": "python3"
  },
  "language_info": {
   "codemirror_mode": {
    "name": "ipython",
    "version": 3
   },
   "file_extension": ".py",
   "mimetype": "text/x-python",
   "name": "python",
   "nbconvert_exporter": "python",
   "pygments_lexer": "ipython3",
   "version": "3.9.7"
  },
  "orig_nbformat": 4
 },
 "nbformat": 4,
 "nbformat_minor": 2
}
